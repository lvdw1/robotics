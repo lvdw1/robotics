{
 "cells": [
  {
   "cell_type": "markdown",
   "metadata": {},
   "source": [
    "# Project: Furuta Pendulum\n",
    "\n",
    "This notebook provides a starting point for the project, introducing the simulation environment. "
   ]
  },
  {
   "cell_type": "code",
   "execution_count": 1,
   "metadata": {},
   "outputs": [],
   "source": [
    "# Load the autoreload extension to automatically reload modules when they are modified\n",
    "%load_ext autoreload\n",
    "\n",
    "# Set autoreload to reload all modules before executing code\n",
    "%autoreload 2"
   ]
  },
  {
   "cell_type": "markdown",
   "metadata": {},
   "source": [
    "### Setting Up Dependencies\n",
    "\n",
    "The simulation and reinforcement learning algorithms used in this project require a few libraries. To install all the necessary dependencies, follow these steps:\n",
    "\n",
    "1. Open a terminal.\n",
    "2. Navigate to this directory.\n",
    "3. Run the following commands (assuming you have already set up the `conda` environment from the exercise sessions):\n",
    "\n",
    "```\n",
    "conda activate py13roboticscourse\n",
    "python -m pip install -r requirements.txt\n",
    "```\n",
    "\n",
    "Installing pytorch for Windows may require additional steps. If you encounter any issues, please refer to the official pytorch installation guide. Alternatively, you can work in a windows subsystem for Linux (WSL) environment, which is recommended for this project."
   ]
  },
  {
   "cell_type": "markdown",
   "metadata": {},
   "source": [
    "### Load the pendulum configuration"
   ]
  },
  {
   "cell_type": "code",
   "execution_count": 2,
   "metadata": {},
   "outputs": [],
   "source": [
    "import yaml \n",
    "import os\n",
    "\n",
    "with open('pendulum_description/simulation_pendulum.yaml', 'r') as file:\n",
    "        config = yaml.safe_load(file)\n",
    "\n",
    "parameters_model = config[\"parameters_model\"]\n",
    "urdf_path = os.path.join(\"pendulum_description\", config[\"urdf_filename\"])\n",
    "forward_dynamics_casadi_path = os.path.join(\"pendulum_description\", config[\"forward_dynamics_casadi_filename\"])"
   ]
  },
  {
   "cell_type": "markdown",
   "metadata": {},
   "source": [
    "### Create the environment"
   ]
  },
  {
   "cell_type": "code",
   "execution_count": 4,
   "metadata": {},
   "outputs": [
    {
     "name": "stdout",
     "output_type": "stream",
     "text": [
      "model name: furuta_pendulum\n",
      "q: [0. 0.]\n",
      "T_pin:   R =\n",
      "           1            0            0\n",
      "           0           -1  1.22465e-16\n",
      "           0 -1.22465e-16           -1\n",
      "  p =    0.093525 1.57979e-17       0.055\n",
      "\n",
      "You can open the visualizer by visiting the following URL:\n",
      "http://127.0.0.1:7001/static/\n"
     ]
    },
    {
     "ename": "RuntimeError",
     "evalue": ".../casadi/core/serializing_stream.cpp:355: Assertion \"load_version==v\" failed:\nDeSerialization of ProtoFunction failed. Object written in version 2 but can only read in version 1.",
     "output_type": "error",
     "traceback": [
      "\u001b[0;31m---------------------------------------------------------------------------\u001b[0m",
      "\u001b[0;31mRuntimeError\u001b[0m                              Traceback (most recent call last)",
      "Cell \u001b[0;32mIn [4], line 10\u001b[0m\n\u001b[1;32m      4\u001b[0m gym\u001b[38;5;241m.\u001b[39mregister(\n\u001b[1;32m      5\u001b[0m     \u001b[38;5;28mid\u001b[39m\u001b[38;5;241m=\u001b[39m\u001b[38;5;124m\"\u001b[39m\u001b[38;5;124mFurutaPendulumTorque-v0\u001b[39m\u001b[38;5;124m\"\u001b[39m,\n\u001b[1;32m      6\u001b[0m     entry_point\u001b[38;5;241m=\u001b[39mFurutaPendulumTorqueEnv,\n\u001b[1;32m      7\u001b[0m )\n\u001b[1;32m      9\u001b[0m \u001b[38;5;66;03m# Create an instance of the FurutaPendulumTorqueEnv environment\u001b[39;00m\n\u001b[0;32m---> 10\u001b[0m env \u001b[38;5;241m=\u001b[39m \u001b[43mgym\u001b[49m\u001b[38;5;241;43m.\u001b[39;49m\u001b[43mmake\u001b[49m\u001b[43m(\u001b[49m\u001b[38;5;124;43m\"\u001b[39;49m\u001b[38;5;124;43mFurutaPendulumTorque-v0\u001b[39;49m\u001b[38;5;124;43m\"\u001b[39;49m\u001b[43m,\u001b[49m\n\u001b[1;32m     11\u001b[0m \u001b[43m               \u001b[49m\u001b[43murdf_model_path\u001b[49m\u001b[38;5;241;43m=\u001b[39;49m\u001b[43murdf_path\u001b[49m\u001b[43m,\u001b[49m\u001b[43m \u001b[49m\u001b[43mforward_dynamics_casadi_path\u001b[49m\u001b[38;5;241;43m=\u001b[39;49m\u001b[43mforward_dynamics_casadi_path\u001b[49m\u001b[43m,\u001b[49m\u001b[43m \u001b[49m\u001b[43mparameters_model\u001b[49m\u001b[38;5;241;43m=\u001b[39;49m\u001b[43mparameters_model\u001b[49m\u001b[43m,\u001b[49m\u001b[43m \u001b[49m\u001b[43mrender\u001b[49m\u001b[38;5;241;43m=\u001b[39;49m\u001b[38;5;28;43;01mTrue\u001b[39;49;00m\u001b[43m,\u001b[49m\u001b[43m \u001b[49m\u001b[43mswingup\u001b[49m\u001b[38;5;241;43m=\u001b[39;49m\u001b[38;5;28;43;01mTrue\u001b[39;49;00m\u001b[43m)\u001b[49m\n\u001b[1;32m     13\u001b[0m \u001b[38;5;66;03m# Click on the url that appears in the output to visualize the environment in a browser\u001b[39;00m\n",
      "File \u001b[0;32m/opt/miniconda3/envs/py13roboticscourse/lib/python3.11/site-packages/gymnasium/envs/registration.py:801\u001b[0m, in \u001b[0;36mmake\u001b[0;34m(id, max_episode_steps, autoreset, apply_api_compatibility, disable_env_checker, **kwargs)\u001b[0m\n\u001b[1;32m    798\u001b[0m     render_mode \u001b[38;5;241m=\u001b[39m \u001b[38;5;28;01mNone\u001b[39;00m\n\u001b[1;32m    800\u001b[0m \u001b[38;5;28;01mtry\u001b[39;00m:\n\u001b[0;32m--> 801\u001b[0m     env \u001b[38;5;241m=\u001b[39m \u001b[43menv_creator\u001b[49m\u001b[43m(\u001b[49m\u001b[38;5;241;43m*\u001b[39;49m\u001b[38;5;241;43m*\u001b[39;49m\u001b[43menv_spec_kwargs\u001b[49m\u001b[43m)\u001b[49m\n\u001b[1;32m    802\u001b[0m \u001b[38;5;28;01mexcept\u001b[39;00m \u001b[38;5;167;01mTypeError\u001b[39;00m \u001b[38;5;28;01mas\u001b[39;00m e:\n\u001b[1;32m    803\u001b[0m     \u001b[38;5;28;01mif\u001b[39;00m (\n\u001b[1;32m    804\u001b[0m         \u001b[38;5;28mstr\u001b[39m(e)\u001b[38;5;241m.\u001b[39mfind(\u001b[38;5;124m\"\u001b[39m\u001b[38;5;124mgot an unexpected keyword argument \u001b[39m\u001b[38;5;124m'\u001b[39m\u001b[38;5;124mrender_mode\u001b[39m\u001b[38;5;124m'\u001b[39m\u001b[38;5;124m\"\u001b[39m) \u001b[38;5;241m>\u001b[39m\u001b[38;5;241m=\u001b[39m \u001b[38;5;241m0\u001b[39m\n\u001b[1;32m    805\u001b[0m         \u001b[38;5;129;01mand\u001b[39;00m apply_human_rendering\n\u001b[1;32m    806\u001b[0m     ):\n",
      "File \u001b[0;32m~/MAI/semester2/Robotics/project/furuta_torque_env.py:103\u001b[0m, in \u001b[0;36mFurutaPendulumTorqueEnv.__init__\u001b[0;34m(self, urdf_model_path, forward_dynamics_casadi_path, parameters_model, render, swingup)\u001b[0m\n\u001b[1;32m    101\u001b[0m \u001b[38;5;28;01mdef\u001b[39;00m \u001b[38;5;21m__init__\u001b[39m(\u001b[38;5;28mself\u001b[39m, urdf_model_path, forward_dynamics_casadi_path, parameters_model, render\u001b[38;5;241m=\u001b[39m\u001b[38;5;28;01mFalse\u001b[39;00m, swingup \u001b[38;5;241m=\u001b[39m \u001b[38;5;28;01mFalse\u001b[39;00m):\n\u001b[0;32m--> 103\u001b[0m     \u001b[38;5;28mself\u001b[39m\u001b[38;5;241m.\u001b[39mpendulum_sim \u001b[38;5;241m=\u001b[39m \u001b[43mFurutaPendulumSimulator\u001b[49m\u001b[43m(\u001b[49m\u001b[43murdf_model_path\u001b[49m\u001b[38;5;241;43m=\u001b[39;49m\u001b[43murdf_model_path\u001b[49m\u001b[43m,\u001b[49m\u001b[43m \u001b[49m\n\u001b[1;32m    104\u001b[0m \u001b[43m                                                \u001b[49m\u001b[43mforward_dynamics_casadi_path\u001b[49m\u001b[38;5;241;43m=\u001b[39;49m\u001b[43m \u001b[49m\u001b[43mforward_dynamics_casadi_path\u001b[49m\u001b[43m,\u001b[49m\u001b[43m \u001b[49m\n\u001b[1;32m    105\u001b[0m \u001b[43m                                             \u001b[49m\u001b[43mrender\u001b[49m\u001b[38;5;241;43m=\u001b[39;49m\u001b[43mrender\u001b[49m\u001b[43m)\u001b[49m\n\u001b[1;32m    107\u001b[0m     \u001b[38;5;28;01mif\u001b[39;00m swingup:\n\u001b[1;32m    108\u001b[0m         \u001b[38;5;28mself\u001b[39m\u001b[38;5;241m.\u001b[39minit_qpos \u001b[38;5;241m=\u001b[39m np\u001b[38;5;241m.\u001b[39marray([\u001b[38;5;241m0.0\u001b[39m, \u001b[38;5;241m0.0\u001b[39m])\n",
      "File \u001b[0;32m~/MAI/semester2/Robotics/project/furuta_torque_env.py:47\u001b[0m, in \u001b[0;36mFurutaPendulumSimulator.__init__\u001b[0;34m(self, urdf_model_path, forward_dynamics_casadi_path, render)\u001b[0m\n\u001b[1;32m     44\u001b[0m q_init \u001b[38;5;241m=\u001b[39m np\u001b[38;5;241m.\u001b[39marray([\u001b[38;5;241m0\u001b[39m, \u001b[38;5;241m0\u001b[39m])\n\u001b[1;32m     45\u001b[0m \u001b[38;5;28mself\u001b[39m\u001b[38;5;241m.\u001b[39mviz\u001b[38;5;241m.\u001b[39mdisplay(q_init)\n\u001b[0;32m---> 47\u001b[0m \u001b[38;5;28mself\u001b[39m\u001b[38;5;241m.\u001b[39mf_state_transition \u001b[38;5;241m=\u001b[39m \u001b[43mFurutaPendulumSimulator\u001b[49m\u001b[38;5;241;43m.\u001b[39;49m\u001b[43mcreate_f_state_transition\u001b[49m\u001b[43m(\u001b[49m\u001b[43mforward_dynamics_casadi_path\u001b[49m\u001b[43m)\u001b[49m \n\u001b[1;32m     49\u001b[0m \u001b[38;5;28mself\u001b[39m\u001b[38;5;241m.\u001b[39mx \u001b[38;5;241m=\u001b[39m np\u001b[38;5;241m.\u001b[39marray([\u001b[38;5;241m0.0\u001b[39m, \u001b[38;5;241m0.0\u001b[39m, \u001b[38;5;241m0.0\u001b[39m, \u001b[38;5;241m0.0\u001b[39m])\n\u001b[1;32m     50\u001b[0m \u001b[38;5;28mself\u001b[39m\u001b[38;5;241m.\u001b[39mx_hist \u001b[38;5;241m=\u001b[39m [\u001b[38;5;28mself\u001b[39m\u001b[38;5;241m.\u001b[39mx]\n",
      "File \u001b[0;32m~/MAI/semester2/Robotics/project/furuta_torque_env.py:81\u001b[0m, in \u001b[0;36mFurutaPendulumSimulator.create_f_state_transition\u001b[0;34m(forward_dynamics_casadi_path)\u001b[0m\n\u001b[1;32m     78\u001b[0m x_sym \u001b[38;5;241m=\u001b[39m ca\u001b[38;5;241m.\u001b[39mvertcat(q_sym, dq_sym)\n\u001b[1;32m     79\u001b[0m u_sym \u001b[38;5;241m=\u001b[39m ca\u001b[38;5;241m.\u001b[39mMX\u001b[38;5;241m.\u001b[39msym(\u001b[38;5;124m\"\u001b[39m\u001b[38;5;124mu\u001b[39m\u001b[38;5;124m\"\u001b[39m)\n\u001b[0;32m---> 81\u001b[0m forward_dynamics \u001b[38;5;241m=\u001b[39m \u001b[43mca\u001b[49m\u001b[38;5;241;43m.\u001b[39;49m\u001b[43mFunction\u001b[49m\u001b[38;5;241;43m.\u001b[39;49m\u001b[43mload\u001b[49m\u001b[43m(\u001b[49m\u001b[43mforward_dynamics_casadi_path\u001b[49m\u001b[43m)\u001b[49m\n\u001b[1;32m     82\u001b[0m ddq_sym \u001b[38;5;241m=\u001b[39m forward_dynamics(q_sym, dq_sym, ca\u001b[38;5;241m.\u001b[39mvertcat(u_sym,\u001b[38;5;241m0\u001b[39m))\n\u001b[1;32m     83\u001b[0m dx_sym \u001b[38;5;241m=\u001b[39m ca\u001b[38;5;241m.\u001b[39mvertcat(dq_sym, ddq_sym)\n",
      "File \u001b[0;32m/opt/miniconda3/envs/py13roboticscourse/lib/python3.11/site-packages/casadi/casadi.py:7673\u001b[0m, in \u001b[0;36mFunction.load\u001b[0;34m(*args)\u001b[0m\n\u001b[1;32m   7670\u001b[0m \u001b[38;5;129m@staticmethod\u001b[39m\n\u001b[1;32m   7671\u001b[0m \u001b[38;5;28;01mdef\u001b[39;00m \u001b[38;5;21mload\u001b[39m(\u001b[38;5;241m*\u001b[39margs):\n\u001b[1;32m   7672\u001b[0m     \u001b[38;5;124mr\u001b[39m\u001b[38;5;124;03m\"\"\"load(std::string const & filename) -> Function\"\"\"\u001b[39;00m\n\u001b[0;32m-> 7673\u001b[0m     \u001b[38;5;28;01mreturn\u001b[39;00m \u001b[43m_casadi\u001b[49m\u001b[38;5;241;43m.\u001b[39;49m\u001b[43mFunction_load\u001b[49m\u001b[43m(\u001b[49m\u001b[38;5;241;43m*\u001b[39;49m\u001b[43margs\u001b[49m\u001b[43m)\u001b[49m\n",
      "\u001b[0;31mRuntimeError\u001b[0m: .../casadi/core/serializing_stream.cpp:355: Assertion \"load_version==v\" failed:\nDeSerialization of ProtoFunction failed. Object written in version 2 but can only read in version 1."
     ]
    }
   ],
   "source": [
    "import gymnasium as gym\n",
    "from furuta_torque_env import FurutaPendulumTorqueEnv\n",
    "\n",
    "gym.register(\n",
    "    id=\"FurutaPendulumTorque-v0\",\n",
    "    entry_point=FurutaPendulumTorqueEnv,\n",
    ")\n",
    "\n",
    "# Create an instance of the FurutaPendulumTorqueEnv environment\n",
    "env = gym.make(\"FurutaPendulumTorque-v0\",\n",
    "               urdf_model_path=urdf_path, forward_dynamics_casadi_path=forward_dynamics_casadi_path, parameters_model=parameters_model, render=True, swingup=True)\n",
    "\n",
    "# Click on the url that appears in the output to visualize the environment in a browser"
   ]
  },
  {
   "cell_type": "markdown",
   "metadata": {},
   "source": [
    "### Execute some control actions on the environment\n",
    "\n",
    "Random actions are sampled and executed on the pendulum. In the browser visualization, you should see the pendulum moving, until the episode terminates."
   ]
  },
  {
   "cell_type": "code",
   "execution_count": null,
   "metadata": {},
   "outputs": [],
   "source": [
    "# Reset the environment to its initial state\n",
    "observation, info = env.reset()\n",
    "\n",
    "terminated = False\n",
    "truncated = False\n",
    "print(f\"Initial Observation: {observation}\")\n",
    "# Apply a sequence of actions\n",
    "while not terminated and not truncated:\n",
    "    action = env.action_space.sample()  # Sample a random action\n",
    "    observation, reward, terminated, truncated, info = env.step(action)\n",
    "    print(f\"Observation: {observation}, Reward: {reward}, Terminated: {terminated}, Truncated: {truncated}\")"
   ]
  },
  {
   "cell_type": "markdown",
   "metadata": {},
   "source": [
    "### Load the trained model and test it\n",
    "We provide a model of an agent that was already been trained to perform upward stabilization of the pendulum. \n",
    "\n",
    "\n",
    "This model was trained for 1 million timesteps using a slightly modified version of the [CleanRL implementation of PPO for continuous actions](https://docs.cleanrl.dev/rl-algorithms/ppo/#ppo_continuous_actionpy). You can find the script used for training (`ppo_continuous_action.py`) in this same directory.\n",
    "In the following cells, we demonstrate how to load the trained model and visualize its behavior in the environment."
   ]
  },
  {
   "cell_type": "code",
   "execution_count": null,
   "metadata": {},
   "outputs": [],
   "source": [
    "import torch\n",
    "from ppo_continuous_action import Agent, make_env\n",
    "\n",
    "saved_model_path = 'furuta_pendulum_tensorboard/furutaTorque__ppo_continuous_action__42__1744890705/ppo_continuous_action.cleanrl_model' # no swingup\n",
    "\n",
    "# Set to False if task includes swingup\n",
    "swingup = False\n",
    "\n",
    "envs = gym.vector.SyncVectorEnv(\n",
    "        [make_env(urdf_path=urdf_path, \n",
    "                  parameters_model=parameters_model, \n",
    "                  forward_dynamics_casadi_path=forward_dynamics_casadi_path,\n",
    "                  render=True, swingup=swingup) for _ in range(1)]\n",
    "    )\n",
    "\n",
    "model = Agent(envs=envs)\n",
    "\n",
    "model.load_state_dict(torch.load(saved_model_path, map_location=\"cpu\"))\n",
    "model.eval()"
   ]
  },
  {
   "cell_type": "code",
   "execution_count": null,
   "metadata": {},
   "outputs": [],
   "source": [
    "# Test the trained model\n",
    "observation, info = envs.reset()\n",
    "terminated = False\n",
    "truncated = False\n",
    "print(f\"Initial Observation: {observation}\")\n",
    "# Apply a sequence of actions\n",
    "while not terminated and not truncated:\n",
    "    action, _, _, _ = model.get_action_and_value(torch.Tensor(observation), deterministic=True)  # Use the trained model to predict the action\n",
    "    action = action.cpu().detach().numpy()\n",
    "    observation, reward, terminated, truncated, info = envs.step(action)\n",
    "    print(f\"Observation: {observation}, Action: {action}, Reward: {reward}, Terminated: {terminated}, Truncated: {truncated}\")\n",
    "# Close the environment\n",
    "envs.close()\n"
   ]
  },
  {
   "cell_type": "markdown",
   "metadata": {},
   "source": [
    "### Tensorboard\n",
    "\n",
    "Below you can see the charts of the training evolution, visualized through Tensorboard. These charts are generated automatically when training a model using the `ppo_continuos_action.py` script.\n"
   ]
  },
  {
   "cell_type": "code",
   "execution_count": null,
   "metadata": {},
   "outputs": [],
   "source": [
    "%load_ext tensorboard\n",
    "\n",
    "%tensorboard --logdir furuta_pendulum_tensorboard"
   ]
  }
 ],
 "metadata": {
  "kernelspec": {
   "display_name": "py13roboticscourse",
   "language": "python",
   "name": "python3"
  },
  "language_info": {
   "codemirror_mode": {
    "name": "ipython",
    "version": 3
   },
   "file_extension": ".py",
   "mimetype": "text/x-python",
   "name": "python",
   "nbconvert_exporter": "python",
   "pygments_lexer": "ipython3",
   "version": "3.11.0"
  }
 },
 "nbformat": 4,
 "nbformat_minor": 2
}
